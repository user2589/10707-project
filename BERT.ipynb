{
 "cells": [
  {
   "cell_type": "code",
   "execution_count": 3,
   "metadata": {},
   "outputs": [
    {
     "name": "stderr",
     "output_type": "stream",
     "text": [
      "/usr/local/lib/python3.5/dist-packages/h5py/__init__.py:34: FutureWarning: Conversion of the second argument of issubdtype from `float` to `np.floating` is deprecated. In future, it will be treated as `np.float64 == np.dtype(float).type`.\n",
      "  from ._conv import register_converters as _register_converters\n",
      "WARNING: Logging before flag parsing goes to stderr.\n",
      "W0425 14:33:07.024722 140217569580800 __init__.py:56] Some hub symbols are not available because TensorFlow version is less than 1.14\n"
     ]
    }
   ],
   "source": [
    "import sys\n",
    "\n",
    "import numpy as np\n",
    "import pandas as pd\n",
    "import tensorflow as tf\n",
    "import tensorflow_hub as tfhub"
   ]
  },
  {
   "cell_type": "code",
   "execution_count": 4,
   "metadata": {},
   "outputs": [],
   "source": [
    "!test -d bert_repo || git clone https://github.com/google-research/bert bert_repo\n",
    "if not 'bert_repo' in sys.path:\n",
    "  sys.path += ['bert_repo']\n",
    "\n",
    "# import python modules defined by BERT\n",
    "import modeling\n",
    "import optimization\n",
    "import run_classifier\n",
    "import run_classifier_with_tfhub\n",
    "import tokenization"
   ]
  },
  {
   "cell_type": "code",
   "execution_count": 4,
   "metadata": {},
   "outputs": [
    {
     "name": "stdout",
     "output_type": "stream",
     "text": [
      "right_answers.csv  sample_submission_stage_1.csv  test_stage_1.tsv\r\n"
     ]
    }
   ],
   "source": [
    "!test -d ../input || mkdir ../input\n",
    "!test -f ../input/test_stage_1.tsv || wget http://leatherngear.com/kaggle/test_stage_1.tsv -O ../input/test_stage_1.tsv -o /dev/null\n",
    "!test -f ../input/right_answers.csv || wget http://leatherngear.com/kaggle/right_answers.csv -O ../input/right_answers.csv -o /dev/null\n",
    "!ls ../input"
   ]
  },
  {
   "cell_type": "code",
   "execution_count": 16,
   "metadata": {},
   "outputs": [
    {
     "data": {
      "text/html": [
       "<div>\n",
       "<style scoped>\n",
       "    .dataframe tbody tr th:only-of-type {\n",
       "        vertical-align: middle;\n",
       "    }\n",
       "\n",
       "    .dataframe tbody tr th {\n",
       "        vertical-align: top;\n",
       "    }\n",
       "\n",
       "    .dataframe thead th {\n",
       "        text-align: right;\n",
       "    }\n",
       "</style>\n",
       "<table border=\"1\" class=\"dataframe\">\n",
       "  <thead>\n",
       "    <tr style=\"text-align: right;\">\n",
       "      <th></th>\n",
       "      <th>Text</th>\n",
       "      <th>Pronoun</th>\n",
       "      <th>Pronoun-offset</th>\n",
       "      <th>A</th>\n",
       "      <th>A-offset</th>\n",
       "      <th>B</th>\n",
       "      <th>B-offset</th>\n",
       "      <th>URL</th>\n",
       "    </tr>\n",
       "    <tr>\n",
       "      <th>ID</th>\n",
       "      <th></th>\n",
       "      <th></th>\n",
       "      <th></th>\n",
       "      <th></th>\n",
       "      <th></th>\n",
       "      <th></th>\n",
       "      <th></th>\n",
       "      <th></th>\n",
       "    </tr>\n",
       "  </thead>\n",
       "  <tbody>\n",
       "    <tr>\n",
       "      <th>development-1</th>\n",
       "      <td>Zoe Telford -- played the police officer girlf...</td>\n",
       "      <td>her</td>\n",
       "      <td>274</td>\n",
       "      <td>Cheryl Cassidy</td>\n",
       "      <td>191</td>\n",
       "      <td>Pauline</td>\n",
       "      <td>207</td>\n",
       "      <td>http://en.wikipedia.org/wiki/List_of_Teachers_...</td>\n",
       "    </tr>\n",
       "    <tr>\n",
       "      <th>development-2</th>\n",
       "      <td>He grew up in Evanston, Illinois the second ol...</td>\n",
       "      <td>His</td>\n",
       "      <td>284</td>\n",
       "      <td>MacKenzie</td>\n",
       "      <td>228</td>\n",
       "      <td>Bernard Leach</td>\n",
       "      <td>251</td>\n",
       "      <td>http://en.wikipedia.org/wiki/Warren_MacKenzie</td>\n",
       "    </tr>\n",
       "  </tbody>\n",
       "</table>\n",
       "</div>"
      ],
      "text/plain": [
       "                                                            Text Pronoun  \\\n",
       "ID                                                                         \n",
       "development-1  Zoe Telford -- played the police officer girlf...     her   \n",
       "development-2  He grew up in Evanston, Illinois the second ol...     His   \n",
       "\n",
       "               Pronoun-offset               A  A-offset              B  \\\n",
       "ID                                                                       \n",
       "development-1             274  Cheryl Cassidy       191        Pauline   \n",
       "development-2             284       MacKenzie       228  Bernard Leach   \n",
       "\n",
       "               B-offset                                                URL  \n",
       "ID                                                                          \n",
       "development-1       207  http://en.wikipedia.org/wiki/List_of_Teachers_...  \n",
       "development-2       251      http://en.wikipedia.org/wiki/Warren_MacKenzie  "
      ]
     },
     "execution_count": 16,
     "metadata": {},
     "output_type": "execute_result"
    }
   ],
   "source": [
    "def get_train_data():\n",
    "    return pd.read_csv(\"../input/test_stage_1.tsv\", sep=\"\\t\", index_col=0)\n",
    "\n",
    "train_data = get_train_data()\n",
    "train_data.head(2)"
   ]
  },
  {
   "cell_type": "code",
   "execution_count": 9,
   "metadata": {},
   "outputs": [
    {
     "name": "stdout",
     "output_type": "stream",
     "text": [
      "ID,A,B,NEITHER\r\n",
      "development-1,1,0,0\r\n",
      "development-2,1,0,0\r\n"
     ]
    }
   ],
   "source": [
    "!head -n 3 ../input/right_answers.csv"
   ]
  },
  {
   "cell_type": "code",
   "execution_count": 20,
   "metadata": {},
   "outputs": [],
   "source": [
    "def get_train_labels():\n",
    "    return pd.read_csv('../input/right_answers.csv', index_col=0).values"
   ]
  },
  {
   "cell_type": "code",
   "execution_count": 82,
   "metadata": {},
   "outputs": [
    {
     "data": {
      "text/plain": [
       "1.0986122886681096"
      ]
     },
     "execution_count": 82,
     "metadata": {},
     "output_type": "execute_result"
    }
   ],
   "source": [
    "def score(labels):\n",
    "    \"\"\" \n",
    "    Arguments:\n",
    "        labels: one-hot encoded nx3 array of labels [A, B, NEITHER]\n",
    "    \"\"\"\n",
    "    a_bit = 10e-15\n",
    "    right_answers = get_train_labels()\n",
    "    l = np.maximum(np.minimum(labels, 1-a_bit), a_bit)\n",
    "    # normalize rows to sum up to 1\n",
    "    l = l / np.tile(l.sum(axis=1), (3, 1)).T\n",
    "    return -(right_answers * np.log(l)).sum() / len(l)\n",
    "\n",
    "random_answers = pd.read_csv('../input/sample_submission_stage_1.csv', index_col=0).values\n",
    "score(random_answers)"
   ]
  },
  {
   "cell_type": "code",
   "execution_count": 50,
   "metadata": {},
   "outputs": [
    {
     "name": "stdout",
     "output_type": "stream",
     "text": [
      "0.437\n",
      "18.148975702979072\n"
     ]
    }
   ],
   "source": [
    "def accuracy(labels):\n",
    "    right_answers = get_train_labels()\n",
    "    n = len(labels)\n",
    "    one_hot = np.zeros(right_answers.shape)\n",
    "    one_hot[np.arange(n), np.argmax(labels)] = 1\n",
    "    return (one_hot * right_answers).sum() / n\n",
    "\n",
    "always_left = np.zeros((len(train_data), 3), dtype=int)\n",
    "always_left[:, 0] = 1  \n",
    "print(accuracy(always_left))  # A: 43.7,   B: 46.25,  Neither: 10.05\n",
    "print(score(always_left))"
   ]
  },
  {
   "cell_type": "markdown",
   "metadata": {},
   "source": [
    "# Naive approaches"
   ]
  },
  {
   "cell_type": "code",
   "execution_count": 83,
   "metadata": {},
   "outputs": [
    {
     "name": "stdout",
     "output_type": "stream",
     "text": [
      "0.9493045885211795\n"
     ]
    }
   ],
   "source": [
    "# dumbest approach ever - balance by probability\n",
    "balanced = np.zeros((len(train_data), 3))\n",
    "balanced[:, 0] = 0.437\n",
    "balanced[:, 1] = 0.4625\n",
    "balanced[:, 2] = 0.1005\n",
    "# accuracy is still 46.25\n",
    "print(score(balanced))"
   ]
  },
  {
   "cell_type": "code",
   "execution_count": 39,
   "metadata": {},
   "outputs": [
    {
     "data": {
      "text/plain": [
       "0.4625"
      ]
     },
     "execution_count": 39,
     "metadata": {},
     "output_type": "execute_result"
    }
   ],
   "source": [
    "# predict the one that is fewer characters away from the pronoun\n",
    "# B is practically always closer, so result is equivalent to \"always B\"\n",
    "closest_char = np.zeros((len(train_data), 3), dtype=int)\n",
    "closest_char[np.arange(len(closest_char)), \n",
    "        ((train_data['Pronoun-offset'] - train_data['A-offset']).abs() > \n",
    "        (train_data['Pronoun-offset'] - train_data['B-offset']).abs()).astype(int)\n",
    "       ] = 1\n",
    "accuracy(closest_char)"
   ]
  },
  {
   "cell_type": "code",
   "execution_count": 43,
   "metadata": {},
   "outputs": [
    {
     "data": {
      "text/plain": [
       "0.4625"
      ]
     },
     "execution_count": 43,
     "metadata": {},
     "output_type": "execute_result"
    }
   ],
   "source": [
    "# predict the one closest in words - same effect\n",
    "train_data['A-word'] = train_data.apply(lambda row: len(row['Text'][:row['A-offset']].split()), axis=1)\n",
    "train_data['B-word'] = train_data.apply(lambda row: len(row['Text'][:row['B-offset']].split()), axis=1)\n",
    "train_data['Pronoun-word'] = train_data.apply(lambda row: len(row['Text'][:row['Pronoun-offset']].split()), axis=1)\n",
    "# train_data[['A-word', 'B-word', 'Pronoun-word']]\n",
    "# train_data[['A-offset', 'B-offset', 'Pronoun-offset']]\n",
    "\n",
    "closest_word = np.zeros((len(train_data), 3), dtype=int)\n",
    "closest_word[np.arange(len(closest_word)), \n",
    "        ((train_data['Pronoun-word'] - train_data['A-word']).abs() > \n",
    "        (train_data['Pronoun-word'] - train_data['B-word']).abs()).astype(int)\n",
    "       ] = 1\n",
    "accuracy(closest_word)"
   ]
  },
  {
   "cell_type": "code",
   "execution_count": 102,
   "metadata": {},
   "outputs": [
    {
     "data": {
      "text/plain": [
       "0.9498397478205609"
      ]
     },
     "execution_count": 102,
     "metadata": {},
     "output_type": "execute_result"
    }
   ],
   "source": [
    "# use distance as probability - same as balance by probability\n",
    "predictions = train_data[['A-offset', 'B-offset', 'Pronoun-offset']].values - train_data[['Pronoun-offset', 'Pronoun-offset', 'Pronoun-offset']].values\n",
    "predictions[:, 2] = 500\n",
    "predictions = 620 - np.abs(predictions)\n",
    "# predictions /= np.tile(predictions.sum(axis=1), (3, 1)).T\n",
    "# score(predictions)\n",
    "score(predictions / np.tile(predictions.sum(axis=1), (3, 1)).T)"
   ]
  },
  {
   "cell_type": "markdown",
   "metadata": {},
   "source": [
    "# Bert"
   ]
  },
  {
   "cell_type": "code",
   "execution_count": 111,
   "metadata": {},
   "outputs": [
    {
     "name": "stdout",
     "output_type": "stream",
     "text": [
      "--2019-04-26 12:26:17--  https://storage.googleapis.com/bert_models/2018_10_18/uncased_L-12_H-768_A-12.zip\n",
      "Resolving storage.googleapis.com (storage.googleapis.com)... 172.217.10.48, 2607:f8b0:4006:813::2010\n",
      "Connecting to storage.googleapis.com (storage.googleapis.com)|172.217.10.48|:443... connected.\n",
      "HTTP request sent, awaiting response... 200 OK\n",
      "Length: 407727028 (389M) [application/zip]\n",
      "Saving to: ‘uncased_L-12_H-768_A-12.zip’\n",
      "\n",
      "uncased_L-12_H-768_ 100%[===================>] 388.84M  42.0MB/s    in 8.6s    \n",
      "\n",
      "2019-04-26 12:26:26 (45.2 MB/s) - ‘uncased_L-12_H-768_A-12.zip’ saved [407727028/407727028]\n",
      "\n"
     ]
    }
   ],
   "source": [
    "# other models:\n",
    "# uncased_L-24_H-1024_A-16\n",
    "# cased_L-12_H-768_A-12\n",
    "BERT_MODEL = 'uncased_L-12_H-768_A-12' #@param {type:\"string\"}\n",
    "BERT_MODEL_HUB = 'https://tfhub.dev/google/bert_' + BERT_MODEL + '/1'\n",
    "!wget https://storage.googleapis.com/bert_models/2018_10_18/uncased_L-12_H-768_A-12.zip\n",
    "!unzip uncased_L-12_H-768_A-12.zip\n"
   ]
  },
  {
   "cell_type": "code",
   "execution_count": 113,
   "metadata": {},
   "outputs": [],
   "source": [
    "# tokenizer = run_classifier_with_tfhub.create_tokenizer_from_hub_module(BERT_MODEL_HUB)"
   ]
  },
  {
   "cell_type": "code",
   "execution_count": 108,
   "metadata": {},
   "outputs": [
    {
     "name": "stdout",
     "output_type": "stream",
     "text": [
      "Zoe Telford -- played the police officer girlfriend of Simon, Maggie. Dumped by Simon in the final episode of series 1, after he slept with Jenny, and is not seen again. Phoebe Thomas played Cheryl Cassidy, Pauline's friend and also a year 11 pupil in Simon's class. Dumped her boyfriend following Simon's advice after he wouldn't have sex with her but later realised this was due to him catching crabs off her friend Pauline.\n"
     ]
    }
   ],
   "source": [
    "example = train_data.loc['development-1', 'Text']\n",
    "print(example)"
   ]
  },
  {
   "cell_type": "code",
   "execution_count": 109,
   "metadata": {},
   "outputs": [
    {
     "data": {
      "text/plain": [
       "['zoe',\n",
       " 'tel',\n",
       " '##ford',\n",
       " '-',\n",
       " '-',\n",
       " 'played',\n",
       " 'the',\n",
       " 'police',\n",
       " 'officer',\n",
       " 'girlfriend',\n",
       " 'of',\n",
       " 'simon',\n",
       " ',',\n",
       " 'maggie',\n",
       " '.',\n",
       " 'dumped',\n",
       " 'by',\n",
       " 'simon',\n",
       " 'in',\n",
       " 'the',\n",
       " 'final',\n",
       " 'episode',\n",
       " 'of',\n",
       " 'series',\n",
       " '1',\n",
       " ',',\n",
       " 'after',\n",
       " 'he',\n",
       " 'slept',\n",
       " 'with',\n",
       " 'jenny',\n",
       " ',',\n",
       " 'and',\n",
       " 'is',\n",
       " 'not',\n",
       " 'seen',\n",
       " 'again',\n",
       " '.',\n",
       " 'phoebe',\n",
       " 'thomas',\n",
       " 'played',\n",
       " 'cheryl',\n",
       " 'cassidy',\n",
       " ',',\n",
       " 'pauline',\n",
       " \"'\",\n",
       " 's',\n",
       " 'friend',\n",
       " 'and',\n",
       " 'also',\n",
       " 'a',\n",
       " 'year',\n",
       " '11',\n",
       " 'pupil',\n",
       " 'in',\n",
       " 'simon',\n",
       " \"'\",\n",
       " 's',\n",
       " 'class',\n",
       " '.',\n",
       " 'dumped',\n",
       " 'her',\n",
       " 'boyfriend',\n",
       " 'following',\n",
       " 'simon',\n",
       " \"'\",\n",
       " 's',\n",
       " 'advice',\n",
       " 'after',\n",
       " 'he',\n",
       " 'wouldn',\n",
       " \"'\",\n",
       " 't',\n",
       " 'have',\n",
       " 'sex',\n",
       " 'with',\n",
       " 'her',\n",
       " 'but',\n",
       " 'later',\n",
       " 'realised',\n",
       " 'this',\n",
       " 'was',\n",
       " 'due',\n",
       " 'to',\n",
       " 'him',\n",
       " 'catching',\n",
       " 'crabs',\n",
       " 'off',\n",
       " 'her',\n",
       " 'friend',\n",
       " 'pauline',\n",
       " '.']"
      ]
     },
     "execution_count": 109,
     "metadata": {},
     "output_type": "execute_result"
    }
   ],
   "source": [
    "tokenizer.tokenize(example)"
   ]
  },
  {
   "cell_type": "code",
   "execution_count": 7,
   "metadata": {},
   "outputs": [
    {
     "data": {
      "text/html": [
       "<div>\n",
       "<style scoped>\n",
       "    .dataframe tbody tr th:only-of-type {\n",
       "        vertical-align: middle;\n",
       "    }\n",
       "\n",
       "    .dataframe tbody tr th {\n",
       "        vertical-align: top;\n",
       "    }\n",
       "\n",
       "    .dataframe thead th {\n",
       "        text-align: right;\n",
       "    }\n",
       "</style>\n",
       "<table border=\"1\" class=\"dataframe\">\n",
       "  <thead>\n",
       "    <tr style=\"text-align: right;\">\n",
       "      <th></th>\n",
       "      <th>Text</th>\n",
       "      <th>Pronoun</th>\n",
       "      <th>Pronoun-offset</th>\n",
       "      <th>A</th>\n",
       "      <th>A-offset</th>\n",
       "      <th>B</th>\n",
       "      <th>B-offset</th>\n",
       "      <th>URL</th>\n",
       "    </tr>\n",
       "    <tr>\n",
       "      <th>ID</th>\n",
       "      <th></th>\n",
       "      <th></th>\n",
       "      <th></th>\n",
       "      <th></th>\n",
       "      <th></th>\n",
       "      <th></th>\n",
       "      <th></th>\n",
       "      <th></th>\n",
       "    </tr>\n",
       "  </thead>\n",
       "  <tbody>\n",
       "    <tr>\n",
       "      <th>development-1</th>\n",
       "      <td>Zoe Telford -- played the police officer girlf...</td>\n",
       "      <td>her</td>\n",
       "      <td>274</td>\n",
       "      <td>Cheryl Cassidy</td>\n",
       "      <td>191</td>\n",
       "      <td>Pauline</td>\n",
       "      <td>207</td>\n",
       "      <td>http://en.wikipedia.org/wiki/List_of_Teachers_...</td>\n",
       "    </tr>\n",
       "    <tr>\n",
       "      <th>development-2</th>\n",
       "      <td>He grew up in Evanston, Illinois the second ol...</td>\n",
       "      <td>His</td>\n",
       "      <td>284</td>\n",
       "      <td>MacKenzie</td>\n",
       "      <td>228</td>\n",
       "      <td>Bernard Leach</td>\n",
       "      <td>251</td>\n",
       "      <td>http://en.wikipedia.org/wiki/Warren_MacKenzie</td>\n",
       "    </tr>\n",
       "  </tbody>\n",
       "</table>\n",
       "</div>"
      ],
      "text/plain": [
       "                                                            Text Pronoun  \\\n",
       "ID                                                                         \n",
       "development-1  Zoe Telford -- played the police officer girlf...     her   \n",
       "development-2  He grew up in Evanston, Illinois the second ol...     His   \n",
       "\n",
       "               Pronoun-offset               A  A-offset              B  \\\n",
       "ID                                                                       \n",
       "development-1             274  Cheryl Cassidy       191        Pauline   \n",
       "development-2             284       MacKenzie       228  Bernard Leach   \n",
       "\n",
       "               B-offset                                                URL  \n",
       "ID                                                                          \n",
       "development-1       207  http://en.wikipedia.org/wiki/List_of_Teachers_...  \n",
       "development-2       251      http://en.wikipedia.org/wiki/Warren_MacKenzie  "
      ]
     },
     "execution_count": 7,
     "metadata": {},
     "output_type": "execute_result"
    }
   ],
   "source": [
    "corpus = pd.read_csv(\"../input/test_stage_1.tsv\", sep='\\t', index_col='ID')\n",
    "corpus.head(2)"
   ]
  },
  {
   "cell_type": "code",
   "execution_count": 8,
   "metadata": {},
   "outputs": [
    {
     "data": {
      "text/plain": [
       "<matplotlib.axes._subplots.AxesSubplot at 0x7fedc40e0da0>"
      ]
     },
     "execution_count": 8,
     "metadata": {},
     "output_type": "execute_result"
    },
    {
     "data": {
      "image/png": "[encoded data removed]",
      "text/plain": [
       "<matplotlib.figure.Figure at 0x7fedc40e0550>"
      ]
     },
     "metadata": {},
     "output_type": "display_data"
    }
   ],
   "source": [
    "corpus['text_len'] = corpus['Text'].map(lambda s: len(s.split()))\n",
    "corpus['text_len'].hist(bins=50)"
   ]
  },
  {
   "cell_type": "code",
   "execution_count": 9,
   "metadata": {},
   "outputs": [
    {
     "data": {
      "text/html": [
       "<div>\n",
       "<style scoped>\n",
       "    .dataframe tbody tr th:only-of-type {\n",
       "        vertical-align: middle;\n",
       "    }\n",
       "\n",
       "    .dataframe tbody tr th {\n",
       "        vertical-align: top;\n",
       "    }\n",
       "\n",
       "    .dataframe thead th {\n",
       "        text-align: right;\n",
       "    }\n",
       "</style>\n",
       "<table border=\"1\" class=\"dataframe\">\n",
       "  <thead>\n",
       "    <tr style=\"text-align: right;\">\n",
       "      <th></th>\n",
       "      <th></th>\n",
       "      <th>Pronoun-offset</th>\n",
       "    </tr>\n",
       "    <tr>\n",
       "      <th>a_left</th>\n",
       "      <th>b_left</th>\n",
       "      <th></th>\n",
       "    </tr>\n",
       "  </thead>\n",
       "  <tbody>\n",
       "    <tr>\n",
       "      <th>0</th>\n",
       "      <th>0</th>\n",
       "      <td>274</td>\n",
       "    </tr>\n",
       "    <tr>\n",
       "      <th rowspan=\"2\" valign=\"top\">1</th>\n",
       "      <th>0</th>\n",
       "      <td>222</td>\n",
       "    </tr>\n",
       "    <tr>\n",
       "      <th>1</th>\n",
       "      <td>1504</td>\n",
       "    </tr>\n",
       "  </tbody>\n",
       "</table>\n",
       "</div>"
      ],
      "text/plain": [
       "               Pronoun-offset\n",
       "a_left b_left                \n",
       "0      0                  274\n",
       "1      0                  222\n",
       "       1                 1504"
      ]
     },
     "execution_count": 9,
     "metadata": {},
     "output_type": "execute_result"
    }
   ],
   "source": [
    "corpus['a_left'] = (corpus['Pronoun-offset'] > corpus['A-offset']).astype(int)\n",
    "corpus['b_left'] = (corpus['Pronoun-offset'] > corpus['B-offset']).astype(int)\n",
    "corpus[['Pronoun-offset', 'a_left', 'b_left']].groupby(['a_left', 'b_left']).count()"
   ]
  },
  {
   "cell_type": "code",
   "execution_count": null,
   "metadata": {},
   "outputs": [],
   "source": []
  }
 ],
 "metadata": {
  "kernelspec": {
   "display_name": "Python 3",
   "language": "python",
   "name": "python3"
  },
  "language_info": {
   "codemirror_mode": {
    "name": "ipython",
    "version": 3
   },
   "file_extension": ".py",
   "mimetype": "text/x-python",
   "name": "python",
   "nbconvert_exporter": "python",
   "pygments_lexer": "ipython3",
   "version": "3.5.2"
  }
 },
 "nbformat": 4,
 "nbformat_minor": 2
}
